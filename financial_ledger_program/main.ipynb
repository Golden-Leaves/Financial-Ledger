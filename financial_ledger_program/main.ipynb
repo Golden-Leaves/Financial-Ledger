{
 "cells": [
  {
   "cell_type": "markdown",
   "id": "cd9694f5",
   "metadata": {},
   "source": [
    "# Financial Ledger #\n",
    "### Financial Ledger that can construct graphs n' shit ###\n"
   ]
  },
  {
   "cell_type": "code",
   "execution_count": null,
   "id": "9f0c621d",
   "metadata": {},
   "outputs": [],
   "source": [
    "import pandas as pd\n",
    "import plotly.express as px\n",
    "import matplotlib.pyplot as plt\n",
    "CURRENCY_PREFIX = \"$NZD\""
   ]
  },
  {
   "cell_type": "code",
   "execution_count": null,
   "id": "f24dfc5f",
   "metadata": {},
   "outputs": [],
   "source": [
    "df_data = pd.read_csv(\"Financial Ledger (Sheet1).csv\")\n",
    "\n"
   ]
  },
  {
   "cell_type": "markdown",
   "id": "563e177a",
   "metadata": {},
   "source": [
    "### Dummy Data Testing ###"
   ]
  },
  {
   "cell_type": "code",
   "execution_count": null,
   "id": "21a4f35b",
   "metadata": {},
   "outputs": [],
   "source": [
    "dummy_entries = pd.DataFrame([\n",
    "    {\"Date\": \"4/6/2025 15:30\", \"Description\": \"Bus Card Top-Up\", \"Amount\": -20.0, \"Category\": \"Transport\"},\n",
    "    {\"Date\": \"5/6/2025 10:00\", \"Description\": \"Freelance Payout\", \"Amount\": 150.0, \"Category\": \"Income\"},\n",
    "    {\"Date\": \"5/6/2025 13:45\", \"Description\": \"Boba Tea (L)\", \"Amount\": -6.5, \"Category\": \"Drinks\"},\n",
    "    {\"Date\": \"5/6/2025 18:20\", \"Description\": \"Udemy Python Course\", \"Amount\": -12.99, \"Category\": \"Education\"},\n",
    "])\n",
    "df_data = pd.concat([df_data,dummy_entries],ignore_index=True)\n",
    "df_data[\"Date\"] = pd.to_datetime(df_data[\"Date\"],format=\"%d/%m/%Y %H:%M\",dayfirst=True)\n"
   ]
  },
  {
   "cell_type": "code",
   "execution_count": null,
   "id": "ee3fd93d",
   "metadata": {},
   "outputs": [
    {
     "data": {
      "text/html": [
       "<div>\n",
       "<style scoped>\n",
       "    .dataframe tbody tr th:only-of-type {\n",
       "        vertical-align: middle;\n",
       "    }\n",
       "\n",
       "    .dataframe tbody tr th {\n",
       "        vertical-align: top;\n",
       "    }\n",
       "\n",
       "    .dataframe thead th {\n",
       "        text-align: right;\n",
       "    }\n",
       "</style>\n",
       "<table border=\"1\" class=\"dataframe\">\n",
       "  <thead>\n",
       "    <tr style=\"text-align: right;\">\n",
       "      <th></th>\n",
       "      <th>Date</th>\n",
       "      <th>Description</th>\n",
       "      <th>Amount</th>\n",
       "      <th>Category</th>\n",
       "    </tr>\n",
       "  </thead>\n",
       "  <tbody>\n",
       "    <tr>\n",
       "      <th>0</th>\n",
       "      <td>2025-03-28 20:53:00</td>\n",
       "      <td>Boba Tea (L)</td>\n",
       "      <td>-6.50</td>\n",
       "      <td>Drinks</td>\n",
       "    </tr>\n",
       "    <tr>\n",
       "      <th>1</th>\n",
       "      <td>2025-03-29 16:29:00</td>\n",
       "      <td>Bus Card Top-Up</td>\n",
       "      <td>-20.00</td>\n",
       "      <td>Transport</td>\n",
       "    </tr>\n",
       "    <tr>\n",
       "      <th>2</th>\n",
       "      <td>2025-03-30 20:49:00</td>\n",
       "      <td>Udemy Python Course</td>\n",
       "      <td>-12.99</td>\n",
       "      <td>Education</td>\n",
       "    </tr>\n",
       "    <tr>\n",
       "      <th>3</th>\n",
       "      <td>2025-03-31 12:08:00</td>\n",
       "      <td>Taxi Ride</td>\n",
       "      <td>-18.00</td>\n",
       "      <td>Transport</td>\n",
       "    </tr>\n",
       "    <tr>\n",
       "      <th>4</th>\n",
       "      <td>2025-04-01 17:11:00</td>\n",
       "      <td>Book Purchase</td>\n",
       "      <td>-13.50</td>\n",
       "      <td>Education</td>\n",
       "    </tr>\n",
       "    <tr>\n",
       "      <th>...</th>\n",
       "      <td>...</td>\n",
       "      <td>...</td>\n",
       "      <td>...</td>\n",
       "      <td>...</td>\n",
       "    </tr>\n",
       "    <tr>\n",
       "      <th>99</th>\n",
       "      <td>2025-07-05 04:36:00</td>\n",
       "      <td>Book Purchase</td>\n",
       "      <td>-13.50</td>\n",
       "      <td>Education</td>\n",
       "    </tr>\n",
       "    <tr>\n",
       "      <th>100</th>\n",
       "      <td>2025-06-04 15:30:00</td>\n",
       "      <td>Bus Card Top-Up</td>\n",
       "      <td>-20.00</td>\n",
       "      <td>Transport</td>\n",
       "    </tr>\n",
       "    <tr>\n",
       "      <th>101</th>\n",
       "      <td>2025-06-05 10:00:00</td>\n",
       "      <td>Freelance Payout</td>\n",
       "      <td>150.00</td>\n",
       "      <td>Income</td>\n",
       "    </tr>\n",
       "    <tr>\n",
       "      <th>102</th>\n",
       "      <td>2025-06-05 13:45:00</td>\n",
       "      <td>Boba Tea (L)</td>\n",
       "      <td>-6.50</td>\n",
       "      <td>Drinks</td>\n",
       "    </tr>\n",
       "    <tr>\n",
       "      <th>103</th>\n",
       "      <td>2025-06-05 18:20:00</td>\n",
       "      <td>Udemy Python Course</td>\n",
       "      <td>-12.99</td>\n",
       "      <td>Education</td>\n",
       "    </tr>\n",
       "  </tbody>\n",
       "</table>\n",
       "<p>104 rows × 4 columns</p>\n",
       "</div>"
      ],
      "text/plain": [
       "                   Date          Description  Amount   Category\n",
       "0   2025-03-28 20:53:00         Boba Tea (L)   -6.50     Drinks\n",
       "1   2025-03-29 16:29:00      Bus Card Top-Up  -20.00  Transport\n",
       "2   2025-03-30 20:49:00  Udemy Python Course  -12.99  Education\n",
       "3   2025-03-31 12:08:00            Taxi Ride  -18.00  Transport\n",
       "4   2025-04-01 17:11:00        Book Purchase  -13.50  Education\n",
       "..                  ...                  ...     ...        ...\n",
       "99  2025-07-05 04:36:00        Book Purchase  -13.50  Education\n",
       "100 2025-06-04 15:30:00      Bus Card Top-Up  -20.00  Transport\n",
       "101 2025-06-05 10:00:00     Freelance Payout  150.00     Income\n",
       "102 2025-06-05 13:45:00         Boba Tea (L)   -6.50     Drinks\n",
       "103 2025-06-05 18:20:00  Udemy Python Course  -12.99  Education\n",
       "\n",
       "[104 rows x 4 columns]"
      ]
     },
     "execution_count": 103,
     "metadata": {},
     "output_type": "execute_result"
    }
   ],
   "source": [
    "df_data"
   ]
  },
  {
   "cell_type": "markdown",
   "id": "ef49fbac",
   "metadata": {},
   "source": [
    "## Core Metrics ##"
   ]
  },
  {
   "cell_type": "code",
   "execution_count": null,
   "id": "062c971c",
   "metadata": {},
   "outputs": [
    {
     "data": {
      "text/plain": [
       "Category\n",
       "Transport        478.00\n",
       "Education        290.88\n",
       "Food             271.20\n",
       "Drinks           143.00\n",
       "Entertainment     89.91\n",
       "Name: Amount, dtype: float64"
      ]
     },
     "execution_count": 104,
     "metadata": {},
     "output_type": "execute_result"
    }
   ],
   "source": [
    "total_income = df_data[df_data[\"Amount\"] > 0][\"Amount\"].sum()\n",
    "total_spent = df_data[df_data[\"Amount\"] < 0][\"Amount\"].sum()\n",
    "net_balance = df_data[\"Amount\"].sum()\n",
    "transaction_count = df_data[\"Date\"].count()\n",
    "mean_day = df_data[df_data[\"Amount\"] < 0].resample(\"D\",on=\"Date\").sum().query(\"Description != '0'\")[\"Amount\"].mean()\n",
    "spending_by_category = df_data[df_data[\"Amount\"] < 0].groupby(\"Category\")[\"Amount\"].sum().abs().sort_values(ascending=False)\n",
    "spending_by_category"
   ]
  },
  {
   "cell_type": "code",
   "execution_count": null,
   "id": "f304aa8d",
   "metadata": {},
   "outputs": [
    {
     "name": "stdout",
     "output_type": "stream",
     "text": [
      "💸 Total Amount of Money Spent: $NZD1,272.99\n",
      "💰 Total Income:                $NZD2,800.00\n",
      "🧮 Net Balance:                 $NZD1,527.01\n",
      "🧾 Transaction Count:           $NZD104\n",
      "🧾 Average Spending Per Day:    $NZD12.7299\n"
     ]
    }
   ],
   "source": [
    "print(f\"💸 Total Amount of Money Spent: {CURRENCY_PREFIX}{abs(total_spent):,.2f}\")\n",
    "print(f\"💰 Total Income:                {CURRENCY_PREFIX}{total_income:,.2f}\")\n",
    "print(f\"🧮 Net Balance:                 {CURRENCY_PREFIX}{net_balance:,.2f}\")\n",
    "print(f\"🧾 Transaction Count:           {CURRENCY_PREFIX }{transaction_count}\")\n",
    "print(f\"🧾 Average Spending Per Day:    {CURRENCY_PREFIX}{abs(mean_day)}\")\n"
   ]
  },
  {
   "cell_type": "markdown",
   "id": "ca344f9d",
   "metadata": {},
   "source": [
    "## Graphs ##"
   ]
  },
  {
   "cell_type": "markdown",
   "id": "1c6e835d",
   "metadata": {},
   "source": [
    "#### Spending by Category ####"
   ]
  },
  {
   "cell_type": "code",
   "execution_count": null,
   "id": "f576d71f",
   "metadata": {},
   "outputs": [
    {
     "data": {
      "application/vnd.plotly.v1+json": {
       "config": {
        "plotlyServerURL": "https://plot.ly"
       },
       "data": [
        {
         "hovertemplate": "<b>%{hovertext}</b><br><br>color=Transport<br>x=%{x}<br>y=%{y}<extra></extra>",
         "hovertext": [
          "Transport"
         ],
         "legendgroup": "Transport",
         "marker": {
          "color": "#636efa",
          "pattern": {
           "shape": ""
          }
         },
         "name": "Transport",
         "orientation": "v",
         "showlegend": true,
         "textposition": "auto",
         "type": "bar",
         "x": [
          "Transport"
         ],
         "xaxis": "x",
         "y": {
          "bdata": "AAAAAADgfUA=",
          "dtype": "f8"
         },
         "yaxis": "y"
        },
        {
         "hovertemplate": "<b>%{hovertext}</b><br><br>color=Education<br>x=%{x}<br>y=%{y}<extra></extra>",
         "hovertext": [
          "Education"
         ],
         "legendgroup": "Education",
         "marker": {
          "color": "#EF553B",
          "pattern": {
           "shape": ""
          }
         },
         "name": "Education",
         "orientation": "v",
         "showlegend": true,
         "textposition": "auto",
         "type": "bar",
         "x": [
          "Education"
         ],
         "xaxis": "x",
         "y": {
          "bdata": "rkfhehQuckA=",
          "dtype": "f8"
         },
         "yaxis": "y"
        },
        {
         "hovertemplate": "<b>%{hovertext}</b><br><br>color=Food<br>x=%{x}<br>y=%{y}<extra></extra>",
         "hovertext": [
          "Food"
         ],
         "legendgroup": "Food",
         "marker": {
          "color": "#00cc96",
          "pattern": {
           "shape": ""
          }
         },
         "name": "Food",
         "orientation": "v",
         "showlegend": true,
         "textposition": "auto",
         "type": "bar",
         "x": [
          "Food"
         ],
         "xaxis": "x",
         "y": {
          "bdata": "NDMzMzPzcEA=",
          "dtype": "f8"
         },
         "yaxis": "y"
        },
        {
         "hovertemplate": "<b>%{hovertext}</b><br><br>color=Drinks<br>x=%{x}<br>y=%{y}<extra></extra>",
         "hovertext": [
          "Drinks"
         ],
         "legendgroup": "Drinks",
         "marker": {
          "color": "#ab63fa",
          "pattern": {
           "shape": ""
          }
         },
         "name": "Drinks",
         "orientation": "v",
         "showlegend": true,
         "textposition": "auto",
         "type": "bar",
         "x": [
          "Drinks"
         ],
         "xaxis": "x",
         "y": {
          "bdata": "AAAAAADgYUA=",
          "dtype": "f8"
         },
         "yaxis": "y"
        },
        {
         "hovertemplate": "<b>%{hovertext}</b><br><br>color=Entertainment<br>x=%{x}<br>y=%{y}<extra></extra>",
         "hovertext": [
          "Entertainment"
         ],
         "legendgroup": "Entertainment",
         "marker": {
          "color": "#FFA15A",
          "pattern": {
           "shape": ""
          }
         },
         "name": "Entertainment",
         "orientation": "v",
         "showlegend": true,
         "textposition": "auto",
         "type": "bar",
         "x": [
          "Entertainment"
         ],
         "xaxis": "x",
         "y": {
          "bdata": "CtejcD16VkA=",
          "dtype": "f8"
         },
         "yaxis": "y"
        }
       ],
       "layout": {
        "barmode": "relative",
        "legend": {
         "title": {
          "text": "color"
         },
         "tracegroupgap": 0
        },
        "template": {
         "data": {
          "bar": [
           {
            "error_x": {
             "color": "#2a3f5f"
            },
            "error_y": {
             "color": "#2a3f5f"
            },
            "marker": {
             "line": {
              "color": "#E5ECF6",
              "width": 0.5
             },
             "pattern": {
              "fillmode": "overlay",
              "size": 10,
              "solidity": 0.2
             }
            },
            "type": "bar"
           }
          ],
          "barpolar": [
           {
            "marker": {
             "line": {
              "color": "#E5ECF6",
              "width": 0.5
             },
             "pattern": {
              "fillmode": "overlay",
              "size": 10,
              "solidity": 0.2
             }
            },
            "type": "barpolar"
           }
          ],
          "carpet": [
           {
            "aaxis": {
             "endlinecolor": "#2a3f5f",
             "gridcolor": "white",
             "linecolor": "white",
             "minorgridcolor": "white",
             "startlinecolor": "#2a3f5f"
            },
            "baxis": {
             "endlinecolor": "#2a3f5f",
             "gridcolor": "white",
             "linecolor": "white",
             "minorgridcolor": "white",
             "startlinecolor": "#2a3f5f"
            },
            "type": "carpet"
           }
          ],
          "choropleth": [
           {
            "colorbar": {
             "outlinewidth": 0,
             "ticks": ""
            },
            "type": "choropleth"
           }
          ],
          "contour": [
           {
            "colorbar": {
             "outlinewidth": 0,
             "ticks": ""
            },
            "colorscale": [
             [
              0,
              "#0d0887"
             ],
             [
              0.1111111111111111,
              "#46039f"
             ],
             [
              0.2222222222222222,
              "#7201a8"
             ],
             [
              0.3333333333333333,
              "#9c179e"
             ],
             [
              0.4444444444444444,
              "#bd3786"
             ],
             [
              0.5555555555555556,
              "#d8576b"
             ],
             [
              0.6666666666666666,
              "#ed7953"
             ],
             [
              0.7777777777777778,
              "#fb9f3a"
             ],
             [
              0.8888888888888888,
              "#fdca26"
             ],
             [
              1,
              "#f0f921"
             ]
            ],
            "type": "contour"
           }
          ],
          "contourcarpet": [
           {
            "colorbar": {
             "outlinewidth": 0,
             "ticks": ""
            },
            "type": "contourcarpet"
           }
          ],
          "heatmap": [
           {
            "colorbar": {
             "outlinewidth": 0,
             "ticks": ""
            },
            "colorscale": [
             [
              0,
              "#0d0887"
             ],
             [
              0.1111111111111111,
              "#46039f"
             ],
             [
              0.2222222222222222,
              "#7201a8"
             ],
             [
              0.3333333333333333,
              "#9c179e"
             ],
             [
              0.4444444444444444,
              "#bd3786"
             ],
             [
              0.5555555555555556,
              "#d8576b"
             ],
             [
              0.6666666666666666,
              "#ed7953"
             ],
             [
              0.7777777777777778,
              "#fb9f3a"
             ],
             [
              0.8888888888888888,
              "#fdca26"
             ],
             [
              1,
              "#f0f921"
             ]
            ],
            "type": "heatmap"
           }
          ],
          "histogram": [
           {
            "marker": {
             "pattern": {
              "fillmode": "overlay",
              "size": 10,
              "solidity": 0.2
             }
            },
            "type": "histogram"
           }
          ],
          "histogram2d": [
           {
            "colorbar": {
             "outlinewidth": 0,
             "ticks": ""
            },
            "colorscale": [
             [
              0,
              "#0d0887"
             ],
             [
              0.1111111111111111,
              "#46039f"
             ],
             [
              0.2222222222222222,
              "#7201a8"
             ],
             [
              0.3333333333333333,
              "#9c179e"
             ],
             [
              0.4444444444444444,
              "#bd3786"
             ],
             [
              0.5555555555555556,
              "#d8576b"
             ],
             [
              0.6666666666666666,
              "#ed7953"
             ],
             [
              0.7777777777777778,
              "#fb9f3a"
             ],
             [
              0.8888888888888888,
              "#fdca26"
             ],
             [
              1,
              "#f0f921"
             ]
            ],
            "type": "histogram2d"
           }
          ],
          "histogram2dcontour": [
           {
            "colorbar": {
             "outlinewidth": 0,
             "ticks": ""
            },
            "colorscale": [
             [
              0,
              "#0d0887"
             ],
             [
              0.1111111111111111,
              "#46039f"
             ],
             [
              0.2222222222222222,
              "#7201a8"
             ],
             [
              0.3333333333333333,
              "#9c179e"
             ],
             [
              0.4444444444444444,
              "#bd3786"
             ],
             [
              0.5555555555555556,
              "#d8576b"
             ],
             [
              0.6666666666666666,
              "#ed7953"
             ],
             [
              0.7777777777777778,
              "#fb9f3a"
             ],
             [
              0.8888888888888888,
              "#fdca26"
             ],
             [
              1,
              "#f0f921"
             ]
            ],
            "type": "histogram2dcontour"
           }
          ],
          "mesh3d": [
           {
            "colorbar": {
             "outlinewidth": 0,
             "ticks": ""
            },
            "type": "mesh3d"
           }
          ],
          "parcoords": [
           {
            "line": {
             "colorbar": {
              "outlinewidth": 0,
              "ticks": ""
             }
            },
            "type": "parcoords"
           }
          ],
          "pie": [
           {
            "automargin": true,
            "type": "pie"
           }
          ],
          "scatter": [
           {
            "fillpattern": {
             "fillmode": "overlay",
             "size": 10,
             "solidity": 0.2
            },
            "type": "scatter"
           }
          ],
          "scatter3d": [
           {
            "line": {
             "colorbar": {
              "outlinewidth": 0,
              "ticks": ""
             }
            },
            "marker": {
             "colorbar": {
              "outlinewidth": 0,
              "ticks": ""
             }
            },
            "type": "scatter3d"
           }
          ],
          "scattercarpet": [
           {
            "marker": {
             "colorbar": {
              "outlinewidth": 0,
              "ticks": ""
             }
            },
            "type": "scattercarpet"
           }
          ],
          "scattergeo": [
           {
            "marker": {
             "colorbar": {
              "outlinewidth": 0,
              "ticks": ""
             }
            },
            "type": "scattergeo"
           }
          ],
          "scattergl": [
           {
            "marker": {
             "colorbar": {
              "outlinewidth": 0,
              "ticks": ""
             }
            },
            "type": "scattergl"
           }
          ],
          "scattermap": [
           {
            "marker": {
             "colorbar": {
              "outlinewidth": 0,
              "ticks": ""
             }
            },
            "type": "scattermap"
           }
          ],
          "scattermapbox": [
           {
            "marker": {
             "colorbar": {
              "outlinewidth": 0,
              "ticks": ""
             }
            },
            "type": "scattermapbox"
           }
          ],
          "scatterpolar": [
           {
            "marker": {
             "colorbar": {
              "outlinewidth": 0,
              "ticks": ""
             }
            },
            "type": "scatterpolar"
           }
          ],
          "scatterpolargl": [
           {
            "marker": {
             "colorbar": {
              "outlinewidth": 0,
              "ticks": ""
             }
            },
            "type": "scatterpolargl"
           }
          ],
          "scatterternary": [
           {
            "marker": {
             "colorbar": {
              "outlinewidth": 0,
              "ticks": ""
             }
            },
            "type": "scatterternary"
           }
          ],
          "surface": [
           {
            "colorbar": {
             "outlinewidth": 0,
             "ticks": ""
            },
            "colorscale": [
             [
              0,
              "#0d0887"
             ],
             [
              0.1111111111111111,
              "#46039f"
             ],
             [
              0.2222222222222222,
              "#7201a8"
             ],
             [
              0.3333333333333333,
              "#9c179e"
             ],
             [
              0.4444444444444444,
              "#bd3786"
             ],
             [
              0.5555555555555556,
              "#d8576b"
             ],
             [
              0.6666666666666666,
              "#ed7953"
             ],
             [
              0.7777777777777778,
              "#fb9f3a"
             ],
             [
              0.8888888888888888,
              "#fdca26"
             ],
             [
              1,
              "#f0f921"
             ]
            ],
            "type": "surface"
           }
          ],
          "table": [
           {
            "cells": {
             "fill": {
              "color": "#EBF0F8"
             },
             "line": {
              "color": "white"
             }
            },
            "header": {
             "fill": {
              "color": "#C8D4E3"
             },
             "line": {
              "color": "white"
             }
            },
            "type": "table"
           }
          ]
         },
         "layout": {
          "annotationdefaults": {
           "arrowcolor": "#2a3f5f",
           "arrowhead": 0,
           "arrowwidth": 1
          },
          "autotypenumbers": "strict",
          "coloraxis": {
           "colorbar": {
            "outlinewidth": 0,
            "ticks": ""
           }
          },
          "colorscale": {
           "diverging": [
            [
             0,
             "#8e0152"
            ],
            [
             0.1,
             "#c51b7d"
            ],
            [
             0.2,
             "#de77ae"
            ],
            [
             0.3,
             "#f1b6da"
            ],
            [
             0.4,
             "#fde0ef"
            ],
            [
             0.5,
             "#f7f7f7"
            ],
            [
             0.6,
             "#e6f5d0"
            ],
            [
             0.7,
             "#b8e186"
            ],
            [
             0.8,
             "#7fbc41"
            ],
            [
             0.9,
             "#4d9221"
            ],
            [
             1,
             "#276419"
            ]
           ],
           "sequential": [
            [
             0,
             "#0d0887"
            ],
            [
             0.1111111111111111,
             "#46039f"
            ],
            [
             0.2222222222222222,
             "#7201a8"
            ],
            [
             0.3333333333333333,
             "#9c179e"
            ],
            [
             0.4444444444444444,
             "#bd3786"
            ],
            [
             0.5555555555555556,
             "#d8576b"
            ],
            [
             0.6666666666666666,
             "#ed7953"
            ],
            [
             0.7777777777777778,
             "#fb9f3a"
            ],
            [
             0.8888888888888888,
             "#fdca26"
            ],
            [
             1,
             "#f0f921"
            ]
           ],
           "sequentialminus": [
            [
             0,
             "#0d0887"
            ],
            [
             0.1111111111111111,
             "#46039f"
            ],
            [
             0.2222222222222222,
             "#7201a8"
            ],
            [
             0.3333333333333333,
             "#9c179e"
            ],
            [
             0.4444444444444444,
             "#bd3786"
            ],
            [
             0.5555555555555556,
             "#d8576b"
            ],
            [
             0.6666666666666666,
             "#ed7953"
            ],
            [
             0.7777777777777778,
             "#fb9f3a"
            ],
            [
             0.8888888888888888,
             "#fdca26"
            ],
            [
             1,
             "#f0f921"
            ]
           ]
          },
          "colorway": [
           "#636efa",
           "#EF553B",
           "#00cc96",
           "#ab63fa",
           "#FFA15A",
           "#19d3f3",
           "#FF6692",
           "#B6E880",
           "#FF97FF",
           "#FECB52"
          ],
          "font": {
           "color": "#2a3f5f"
          },
          "geo": {
           "bgcolor": "white",
           "lakecolor": "white",
           "landcolor": "#E5ECF6",
           "showlakes": true,
           "showland": true,
           "subunitcolor": "white"
          },
          "hoverlabel": {
           "align": "left"
          },
          "hovermode": "closest",
          "mapbox": {
           "style": "light"
          },
          "paper_bgcolor": "white",
          "plot_bgcolor": "#E5ECF6",
          "polar": {
           "angularaxis": {
            "gridcolor": "white",
            "linecolor": "white",
            "ticks": ""
           },
           "bgcolor": "#E5ECF6",
           "radialaxis": {
            "gridcolor": "white",
            "linecolor": "white",
            "ticks": ""
           }
          },
          "scene": {
           "xaxis": {
            "backgroundcolor": "#E5ECF6",
            "gridcolor": "white",
            "gridwidth": 2,
            "linecolor": "white",
            "showbackground": true,
            "ticks": "",
            "zerolinecolor": "white"
           },
           "yaxis": {
            "backgroundcolor": "#E5ECF6",
            "gridcolor": "white",
            "gridwidth": 2,
            "linecolor": "white",
            "showbackground": true,
            "ticks": "",
            "zerolinecolor": "white"
           },
           "zaxis": {
            "backgroundcolor": "#E5ECF6",
            "gridcolor": "white",
            "gridwidth": 2,
            "linecolor": "white",
            "showbackground": true,
            "ticks": "",
            "zerolinecolor": "white"
           }
          },
          "shapedefaults": {
           "line": {
            "color": "#2a3f5f"
           }
          },
          "ternary": {
           "aaxis": {
            "gridcolor": "white",
            "linecolor": "white",
            "ticks": ""
           },
           "baxis": {
            "gridcolor": "white",
            "linecolor": "white",
            "ticks": ""
           },
           "bgcolor": "#E5ECF6",
           "caxis": {
            "gridcolor": "white",
            "linecolor": "white",
            "ticks": ""
           }
          },
          "title": {
           "x": 0.05
          },
          "xaxis": {
           "automargin": true,
           "gridcolor": "white",
           "linecolor": "white",
           "ticks": "",
           "title": {
            "standoff": 15
           },
           "zerolinecolor": "white",
           "zerolinewidth": 2
          },
          "yaxis": {
           "automargin": true,
           "gridcolor": "white",
           "linecolor": "white",
           "ticks": "",
           "title": {
            "standoff": 15
           },
           "zerolinecolor": "white",
           "zerolinewidth": 2
          }
         }
        },
        "title": {
         "text": "Spending By Category"
        },
        "xaxis": {
         "anchor": "y",
         "domain": [
          0,
          1
         ],
         "title": {
          "text": "Category"
         }
        },
        "yaxis": {
         "anchor": "x",
         "domain": [
          0,
          1
         ],
         "title": {
          "text": "Amount ($NZD)"
         }
        }
       }
      }
     },
     "metadata": {},
     "output_type": "display_data"
    }
   ],
   "source": [
    "spending_by_category_line = px.bar(x=spending_by_category.index,y=spending_by_category.values,color=spending_by_category.index,\n",
    "                                   title=\"Spending By Category\",hover_name=spending_by_category.index)\n",
    "spending_by_category_line.update_layout(xaxis_title = \"Category\",yaxis_title = f\"Amount ({CURRENCY_PREFIX})\")"
   ]
  },
  {
   "cell_type": "code",
   "execution_count": null,
   "id": "e83b1239",
   "metadata": {},
   "outputs": [
    {
     "data": {
      "application/vnd.plotly.v1+json": {
       "config": {
        "plotlyServerURL": "https://plot.ly"
       },
       "data": [
        {
         "customdata": [
          [
           "Drinks",
           6.5
          ],
          [
           "Transport",
           20
          ],
          [
           "Education",
           12.99
          ],
          [
           "Transport",
           18
          ],
          [
           "Education",
           13.5
          ],
          [
           "Drinks",
           4.5
          ],
          [
           "Transport",
           18
          ],
          [
           "Transport",
           20
          ],
          [
           "Entertainment",
           9.99
          ],
          [
           "Education",
           13.5
          ],
          [
           "Entertainment",
           9.99
          ],
          [
           "Education",
           12.99
          ],
          [
           "Education",
           13.5
          ],
          [
           "Drinks",
           4.5
          ],
          [
           "Entertainment",
           9.99
          ],
          [
           "Transport",
           20
          ],
          [
           "Entertainment",
           9.99
          ],
          [
           "Transport",
           20
          ],
          [
           "Education",
           12.99
          ],
          [
           "Transport",
           20
          ],
          [
           "Drinks",
           6.5
          ],
          [
           "Entertainment",
           9.99
          ],
          [
           "Transport",
           20
          ],
          [
           "Drinks",
           6.5
          ],
          [
           "Drinks",
           6.5
          ],
          [
           "Transport",
           18
          ],
          [
           "Transport",
           20
          ],
          [
           "Drinks",
           6.5
          ],
          [
           "Transport",
           20
          ],
          [
           "Food",
           45.2
          ],
          [
           "Education",
           12.99
          ],
          [
           "Drinks",
           4.5
          ],
          [
           "Education",
           13.5
          ],
          [
           "Transport",
           18
          ],
          [
           "Drinks",
           4.5
          ],
          [
           "Transport",
           18
          ],
          [
           "Entertainment",
           9.99
          ],
          [
           "Transport",
           18
          ],
          [
           "Transport",
           20
          ],
          [
           "Education",
           12.99
          ],
          [
           "Food",
           45.2
          ],
          [
           "Drinks",
           4.5
          ],
          [
           "Entertainment",
           9.99
          ],
          [
           "Education",
           13.5
          ],
          [
           "Transport",
           20
          ],
          [
           "Education",
           13.5
          ],
          [
           "Transport",
           20
          ],
          [
           "Education",
           12.99
          ],
          [
           "Drinks",
           6.5
          ],
          [
           "Food",
           45.2
          ],
          [
           "Transport",
           18
          ],
          [
           "Drinks",
           6.5
          ],
          [
           "Transport",
           20
          ],
          [
           "Entertainment",
           9.99
          ],
          [
           "Drinks",
           4.5
          ],
          [
           "Drinks",
           6.5
          ],
          [
           "Transport",
           18
          ],
          [
           "Education",
           13.5
          ],
          [
           "Drinks",
           4.5
          ],
          [
           "Education",
           12.99
          ],
          [
           "Transport",
           18
          ],
          [
           "Transport",
           20
          ],
          [
           "DrinksEducation",
           19.490000000000002
          ],
          [
           "Drinks",
           6.5
          ],
          [
           "Education",
           13.5
          ],
          [
           "Entertainment",
           9.99
          ],
          [
           "Drinks",
           4.5
          ],
          [
           "Education",
           12.99
          ],
          [
           "Drinks",
           4.5
          ],
          [
           "Drinks",
           6.5
          ],
          [
           "Education",
           12.99
          ],
          [
           "Transport",
           20
          ],
          [
           "Drinks",
           6.5
          ],
          [
           "Education",
           12.99
          ],
          [
           "Transport",
           18
          ],
          [
           "Drinks",
           4.5
          ],
          [
           "Drinks",
           6.5
          ],
          [
           "Education",
           13.5
          ],
          [
           "Drinks",
           4.5
          ],
          [
           "Food",
           45.2
          ],
          [
           "Education",
           12.99
          ],
          [
           "Food",
           45.2
          ],
          [
           "Drinks",
           4.5
          ],
          [
           "Food",
           45.2
          ],
          [
           "Drinks",
           4.5
          ],
          [
           "Transport",
           18
          ],
          [
           "Education",
           13.5
          ]
         ],
         "hovertemplate": "<b>%{hovertext}</b><br><br>Date=%{x}<br>RollingMean=%{y}<br>Category=%{customdata[0]}<br>Amount=%{customdata[1]}<extra></extra>",
         "hovertext": [
          "Boba Tea (L)",
          "Bus Card Top-Up",
          "Udemy Python Course",
          "Taxi Ride",
          "Book Purchase",
          "Coffee (M)",
          "Taxi Ride",
          "Bus Card Top-Up",
          "Spotify Subscription",
          "Book Purchase",
          "Spotify Subscription",
          "Udemy Python Course",
          "Book Purchase",
          "Coffee (M)",
          "Spotify Subscription",
          "Bus Card Top-Up",
          "Spotify Subscription",
          "Bus Card Top-Up",
          "Udemy Python Course",
          "Bus Card Top-Up",
          "Boba Tea (L)",
          "Spotify Subscription",
          "Bus Card Top-Up",
          "Boba Tea (L)",
          "Boba Tea (L)",
          "Taxi Ride",
          "Bus Card Top-Up",
          "Boba Tea (L)",
          "Bus Card Top-Up",
          "Grocery Store",
          "Udemy Python Course",
          "Coffee (M)",
          "Book Purchase",
          "Taxi Ride",
          "Coffee (M)",
          "Taxi Ride",
          "Spotify Subscription",
          "Taxi Ride",
          "Bus Card Top-Up",
          "Udemy Python Course",
          "Grocery Store",
          "Coffee (M)",
          "Spotify Subscription",
          "Book Purchase",
          "Bus Card Top-Up",
          "Book Purchase",
          "Bus Card Top-Up",
          "Udemy Python Course",
          "Boba Tea (L)",
          "Grocery Store",
          "Taxi Ride",
          "Boba Tea (L)",
          "Bus Card Top-Up",
          "Spotify Subscription",
          "Coffee (M)",
          "Boba Tea (L)",
          "Taxi Ride",
          "Book Purchase",
          "Coffee (M)",
          "Udemy Python Course",
          "Taxi Ride",
          "Bus Card Top-Up",
          "Boba Tea (L)Udemy Python Course",
          "Boba Tea (L)",
          "Book Purchase",
          "Spotify Subscription",
          "Coffee (M)",
          "Udemy Python Course",
          "Coffee (M)",
          "Boba Tea (L)",
          "Udemy Python Course",
          "Bus Card Top-Up",
          "Boba Tea (L)",
          "Udemy Python Course",
          "Taxi Ride",
          "Coffee (M)",
          "Boba Tea (L)",
          "Book Purchase",
          "Coffee (M)",
          "Grocery Store",
          "Udemy Python Course",
          "Grocery Store",
          "Coffee (M)",
          "Grocery Store",
          "Coffee (M)",
          "Taxi Ride",
          "Book Purchase"
         ],
         "legendgroup": "",
         "marker": {
          "color": "#636efa",
          "symbol": "circle"
         },
         "mode": "markers",
         "name": "",
         "orientation": "v",
         "showlegend": false,
         "type": "scatter",
         "x": [
          "2025-03-28T00:00:00.000000000",
          "2025-03-29T00:00:00.000000000",
          "2025-03-30T00:00:00.000000000",
          "2025-03-31T00:00:00.000000000",
          "2025-04-01T00:00:00.000000000",
          "2025-04-02T00:00:00.000000000",
          "2025-04-03T00:00:00.000000000",
          "2025-04-04T00:00:00.000000000",
          "2025-04-06T00:00:00.000000000",
          "2025-04-07T00:00:00.000000000",
          "2025-04-08T00:00:00.000000000",
          "2025-04-09T00:00:00.000000000",
          "2025-04-10T00:00:00.000000000",
          "2025-04-11T00:00:00.000000000",
          "2025-04-12T00:00:00.000000000",
          "2025-04-14T00:00:00.000000000",
          "2025-04-15T00:00:00.000000000",
          "2025-04-16T00:00:00.000000000",
          "2025-04-17T00:00:00.000000000",
          "2025-04-18T00:00:00.000000000",
          "2025-04-19T00:00:00.000000000",
          "2025-04-20T00:00:00.000000000",
          "2025-04-21T00:00:00.000000000",
          "2025-04-22T00:00:00.000000000",
          "2025-04-23T00:00:00.000000000",
          "2025-04-24T00:00:00.000000000",
          "2025-04-25T00:00:00.000000000",
          "2025-04-27T00:00:00.000000000",
          "2025-04-28T00:00:00.000000000",
          "2025-04-29T00:00:00.000000000",
          "2025-05-01T00:00:00.000000000",
          "2025-05-02T00:00:00.000000000",
          "2025-05-04T00:00:00.000000000",
          "2025-05-05T00:00:00.000000000",
          "2025-05-06T00:00:00.000000000",
          "2025-05-07T00:00:00.000000000",
          "2025-05-08T00:00:00.000000000",
          "2025-05-09T00:00:00.000000000",
          "2025-05-10T00:00:00.000000000",
          "2025-05-11T00:00:00.000000000",
          "2025-05-12T00:00:00.000000000",
          "2025-05-13T00:00:00.000000000",
          "2025-05-14T00:00:00.000000000",
          "2025-05-15T00:00:00.000000000",
          "2025-05-16T00:00:00.000000000",
          "2025-05-17T00:00:00.000000000",
          "2025-05-18T00:00:00.000000000",
          "2025-05-19T00:00:00.000000000",
          "2025-05-20T00:00:00.000000000",
          "2025-05-21T00:00:00.000000000",
          "2025-05-22T00:00:00.000000000",
          "2025-05-23T00:00:00.000000000",
          "2025-05-24T00:00:00.000000000",
          "2025-05-25T00:00:00.000000000",
          "2025-05-26T00:00:00.000000000",
          "2025-05-29T00:00:00.000000000",
          "2025-05-30T00:00:00.000000000",
          "2025-05-31T00:00:00.000000000",
          "2025-06-01T00:00:00.000000000",
          "2025-06-02T00:00:00.000000000",
          "2025-06-03T00:00:00.000000000",
          "2025-06-04T00:00:00.000000000",
          "2025-06-05T00:00:00.000000000",
          "2025-06-07T00:00:00.000000000",
          "2025-06-08T00:00:00.000000000",
          "2025-06-09T00:00:00.000000000",
          "2025-06-11T00:00:00.000000000",
          "2025-06-12T00:00:00.000000000",
          "2025-06-13T00:00:00.000000000",
          "2025-06-14T00:00:00.000000000",
          "2025-06-15T00:00:00.000000000",
          "2025-06-17T00:00:00.000000000",
          "2025-06-18T00:00:00.000000000",
          "2025-06-19T00:00:00.000000000",
          "2025-06-20T00:00:00.000000000",
          "2025-06-21T00:00:00.000000000",
          "2025-06-22T00:00:00.000000000",
          "2025-06-23T00:00:00.000000000",
          "2025-06-24T00:00:00.000000000",
          "2025-06-25T00:00:00.000000000",
          "2025-06-27T00:00:00.000000000",
          "2025-06-28T00:00:00.000000000",
          "2025-06-29T00:00:00.000000000",
          "2025-07-02T00:00:00.000000000",
          "2025-07-03T00:00:00.000000000",
          "2025-07-04T00:00:00.000000000",
          "2025-07-05T00:00:00.000000000"
         ],
         "xaxis": "x",
         "y": {
          "bdata": "AAAAAAAA+H8AAAAAAAD4fwAAAAAAAPh/AAAAAAAA+H9NN4lBYGUsQIBqvHSTmCtAs53vp8bLKkCamZmZmZktQEs3iUFgZSpASzeJQWBlKkBlO99PjZcsQEoMAiuHlipAsHJoke38J0CXbhKDwMolQBbZzvdTYyRAMgisHFpkKED+1HjpJjEnQJhuEoPAyilA46WbxCAwLUB/arx0k5gwQJhuEoPAyitAmG4Sg8DKK0CYbhKDwMorQBkEVg4tMilAsp3vp8bLI0BMN4lBYGUoQGZmZmZmZixAAAAAAAAAJ0BmZmZmZmYsQHE9Ctej8DVA46WbxCDwNEBKDAIrh9YxQLByaJHtPDNASgwCK4fWMkBMN4lBYGUlQGZmZmZmZidAf2q8dJOYKUBNN4lBYGUrQBoEVg4tMixAZTvfT42XL0Aj2/l+ajw1QBfZzvdTIzRA76fGSzeJMkAj2/l+ajwxQBbZzvdTozJAf2q8dJOYKECzne+nxssuQObQItv5/i9AGgRWDi0yLUAW2c73U6MzQH0/NV66iTRASgwCK4fWMUA+CtejcD0zQOSlm8Qg8DNAf2q8dJOYJ0Dm0CLb+f4iQH9qvHSTmCdA5tAi2/n+JEDNzMzMzMwiQBkEVg4tMiZAs53vp8bLKkCAarx0k5grQMuhRbbz/S1AmG4Sg8DKLkDm0CLb+f4uQJhuEoPAyitAZTvfT42XJUDLoUW28/0iQP7UeOkmMSJAYxBYObTIHkBkO99PjZcgQJduEoPAyiZAGARWDi0yJEBkO99PjZcnQP7UeOkmMSxAsp3vp8bLKEBMN4lBYGUjQBkEVg4tMiZAzczMzMzMIkCuR+F6FK4tQH0/NV66iTBAu0kMAitHOEDufD81Xno2QJLtfD81nj5A7nw/NV56NkB7FK5H4Xo3QKNwPQrXIzFA",
          "dtype": "f8"
         },
         "yaxis": "y"
        },
        {
         "hovertemplate": "<b>OLS trendline</b><br>RollingMean = 2.66078e-07 * Date + -450.336<br>R<sup>2</sup>=0.022600<br><br>Date=%{x}<br>RollingMean=%{y} <b>(trend)</b><extra></extra>",
         "legendgroup": "",
         "line": {
          "color": "red"
         },
         "marker": {
          "color": "#636efa",
          "symbol": "circle"
         },
         "mode": "lines",
         "name": "",
         "showlegend": false,
         "type": "scatter",
         "x": [
          "2025-04-01T00:00:00.000000000",
          "2025-04-02T00:00:00.000000000",
          "2025-04-03T00:00:00.000000000",
          "2025-04-04T00:00:00.000000000",
          "2025-04-06T00:00:00.000000000",
          "2025-04-07T00:00:00.000000000",
          "2025-04-08T00:00:00.000000000",
          "2025-04-09T00:00:00.000000000",
          "2025-04-10T00:00:00.000000000",
          "2025-04-11T00:00:00.000000000",
          "2025-04-12T00:00:00.000000000",
          "2025-04-14T00:00:00.000000000",
          "2025-04-15T00:00:00.000000000",
          "2025-04-16T00:00:00.000000000",
          "2025-04-17T00:00:00.000000000",
          "2025-04-18T00:00:00.000000000",
          "2025-04-19T00:00:00.000000000",
          "2025-04-20T00:00:00.000000000",
          "2025-04-21T00:00:00.000000000",
          "2025-04-22T00:00:00.000000000",
          "2025-04-23T00:00:00.000000000",
          "2025-04-24T00:00:00.000000000",
          "2025-04-25T00:00:00.000000000",
          "2025-04-27T00:00:00.000000000",
          "2025-04-28T00:00:00.000000000",
          "2025-04-29T00:00:00.000000000",
          "2025-05-01T00:00:00.000000000",
          "2025-05-02T00:00:00.000000000",
          "2025-05-04T00:00:00.000000000",
          "2025-05-05T00:00:00.000000000",
          "2025-05-06T00:00:00.000000000",
          "2025-05-07T00:00:00.000000000",
          "2025-05-08T00:00:00.000000000",
          "2025-05-09T00:00:00.000000000",
          "2025-05-10T00:00:00.000000000",
          "2025-05-11T00:00:00.000000000",
          "2025-05-12T00:00:00.000000000",
          "2025-05-13T00:00:00.000000000",
          "2025-05-14T00:00:00.000000000",
          "2025-05-15T00:00:00.000000000",
          "2025-05-16T00:00:00.000000000",
          "2025-05-17T00:00:00.000000000",
          "2025-05-18T00:00:00.000000000",
          "2025-05-19T00:00:00.000000000",
          "2025-05-20T00:00:00.000000000",
          "2025-05-21T00:00:00.000000000",
          "2025-05-22T00:00:00.000000000",
          "2025-05-23T00:00:00.000000000",
          "2025-05-24T00:00:00.000000000",
          "2025-05-25T00:00:00.000000000",
          "2025-05-26T00:00:00.000000000",
          "2025-05-29T00:00:00.000000000",
          "2025-05-30T00:00:00.000000000",
          "2025-05-31T00:00:00.000000000",
          "2025-06-01T00:00:00.000000000",
          "2025-06-02T00:00:00.000000000",
          "2025-06-03T00:00:00.000000000",
          "2025-06-04T00:00:00.000000000",
          "2025-06-05T00:00:00.000000000",
          "2025-06-07T00:00:00.000000000",
          "2025-06-08T00:00:00.000000000",
          "2025-06-09T00:00:00.000000000",
          "2025-06-11T00:00:00.000000000",
          "2025-06-12T00:00:00.000000000",
          "2025-06-13T00:00:00.000000000",
          "2025-06-14T00:00:00.000000000",
          "2025-06-15T00:00:00.000000000",
          "2025-06-17T00:00:00.000000000",
          "2025-06-18T00:00:00.000000000",
          "2025-06-19T00:00:00.000000000",
          "2025-06-20T00:00:00.000000000",
          "2025-06-21T00:00:00.000000000",
          "2025-06-22T00:00:00.000000000",
          "2025-06-23T00:00:00.000000000",
          "2025-06-24T00:00:00.000000000",
          "2025-06-25T00:00:00.000000000",
          "2025-06-27T00:00:00.000000000",
          "2025-06-28T00:00:00.000000000",
          "2025-06-29T00:00:00.000000000",
          "2025-07-02T00:00:00.000000000",
          "2025-07-03T00:00:00.000000000",
          "2025-07-04T00:00:00.000000000",
          "2025-07-05T00:00:00.000000000"
         ],
         "xaxis": "x",
         "y": {
          "bdata": "AOXf0/AfK0CgWzYQtisrQGDSjEx7NytAAEnjiEBDK0BgNpABy1orQCCt5j2QZitAwCM9elVyK0CAmpO2Gn4rQCAR6vLfiStA4IdAL6WVK0CA/pZraqErQODrQ+T0uCtAoGKaILrEK0BA2fBcf9ArQABQR5lE3CtAoMad1QnoK0BgPfQRz/MrQAC0Sk6U/ytAwCqhilkLLEBgoffGHhcsQCAYTgPkIixAwI6kP6kuLECABft7bjosQODyp/T4USxAgGn+ML5dLEBA4FRtg2ksQKDNAeYNgSxAQERYItOMLECgMQWbXaQsQGCoW9cisCxAAB+yE+i7LEDAlQhQrccsQGAMX4xy0yxAIIO1yDffLEDA+QsF/eosQIBwYkHC9ixAIOe4fYcCLUDgXQ+6TA4tQIDUZfYRGi1AQEu8MtclLUDgwRJvnDEtQKA4aathPS1AQK+/5yZJLUAAJhYk7FQtQKCcbGCxYC1AYBPDnHZsLUAAihnZO3gtQMAAcBUBhC1AYHfGUcaPLUAg7hyOi5stQMBkc8pQpy1A4Mh2f6DKLUCAP827ZdYtQEC2I/gq4i1A4Cx6NPDtLUCgo9BwtfktQEAaJ616BS5AAJF96T8RLkCgB9QlBR0uQAD1gJ6PNC5AwGvX2lRALkBg4i0XGkwuQMDP2o+kYy5AgEYxzGlvLkAgvYcIL3suQOAz3kT0hi5AgKo0gbmSLkDgl+H5Q6ouQKAOODYJti5AQIWOcs7BLkAA/OSuk80uQKByO+tY2S5AYOmRJx7lLkAAYOhj4/AuQMDWPqCo/C5AYE2V3G0IL0DAOkJV+B8vQICxmJG9Ky9AICjvzYI3L0BAjPKC0lovQOACSb+XZi9AoHmf+1xyL0BA8PU3In4vQA==",
          "dtype": "f8"
         },
         "yaxis": "y"
        }
       ],
       "layout": {
        "legend": {
         "tracegroupgap": 0
        },
        "template": {
         "data": {
          "bar": [
           {
            "error_x": {
             "color": "#2a3f5f"
            },
            "error_y": {
             "color": "#2a3f5f"
            },
            "marker": {
             "line": {
              "color": "#E5ECF6",
              "width": 0.5
             },
             "pattern": {
              "fillmode": "overlay",
              "size": 10,
              "solidity": 0.2
             }
            },
            "type": "bar"
           }
          ],
          "barpolar": [
           {
            "marker": {
             "line": {
              "color": "#E5ECF6",
              "width": 0.5
             },
             "pattern": {
              "fillmode": "overlay",
              "size": 10,
              "solidity": 0.2
             }
            },
            "type": "barpolar"
           }
          ],
          "carpet": [
           {
            "aaxis": {
             "endlinecolor": "#2a3f5f",
             "gridcolor": "white",
             "linecolor": "white",
             "minorgridcolor": "white",
             "startlinecolor": "#2a3f5f"
            },
            "baxis": {
             "endlinecolor": "#2a3f5f",
             "gridcolor": "white",
             "linecolor": "white",
             "minorgridcolor": "white",
             "startlinecolor": "#2a3f5f"
            },
            "type": "carpet"
           }
          ],
          "choropleth": [
           {
            "colorbar": {
             "outlinewidth": 0,
             "ticks": ""
            },
            "type": "choropleth"
           }
          ],
          "contour": [
           {
            "colorbar": {
             "outlinewidth": 0,
             "ticks": ""
            },
            "colorscale": [
             [
              0,
              "#0d0887"
             ],
             [
              0.1111111111111111,
              "#46039f"
             ],
             [
              0.2222222222222222,
              "#7201a8"
             ],
             [
              0.3333333333333333,
              "#9c179e"
             ],
             [
              0.4444444444444444,
              "#bd3786"
             ],
             [
              0.5555555555555556,
              "#d8576b"
             ],
             [
              0.6666666666666666,
              "#ed7953"
             ],
             [
              0.7777777777777778,
              "#fb9f3a"
             ],
             [
              0.8888888888888888,
              "#fdca26"
             ],
             [
              1,
              "#f0f921"
             ]
            ],
            "type": "contour"
           }
          ],
          "contourcarpet": [
           {
            "colorbar": {
             "outlinewidth": 0,
             "ticks": ""
            },
            "type": "contourcarpet"
           }
          ],
          "heatmap": [
           {
            "colorbar": {
             "outlinewidth": 0,
             "ticks": ""
            },
            "colorscale": [
             [
              0,
              "#0d0887"
             ],
             [
              0.1111111111111111,
              "#46039f"
             ],
             [
              0.2222222222222222,
              "#7201a8"
             ],
             [
              0.3333333333333333,
              "#9c179e"
             ],
             [
              0.4444444444444444,
              "#bd3786"
             ],
             [
              0.5555555555555556,
              "#d8576b"
             ],
             [
              0.6666666666666666,
              "#ed7953"
             ],
             [
              0.7777777777777778,
              "#fb9f3a"
             ],
             [
              0.8888888888888888,
              "#fdca26"
             ],
             [
              1,
              "#f0f921"
             ]
            ],
            "type": "heatmap"
           }
          ],
          "histogram": [
           {
            "marker": {
             "pattern": {
              "fillmode": "overlay",
              "size": 10,
              "solidity": 0.2
             }
            },
            "type": "histogram"
           }
          ],
          "histogram2d": [
           {
            "colorbar": {
             "outlinewidth": 0,
             "ticks": ""
            },
            "colorscale": [
             [
              0,
              "#0d0887"
             ],
             [
              0.1111111111111111,
              "#46039f"
             ],
             [
              0.2222222222222222,
              "#7201a8"
             ],
             [
              0.3333333333333333,
              "#9c179e"
             ],
             [
              0.4444444444444444,
              "#bd3786"
             ],
             [
              0.5555555555555556,
              "#d8576b"
             ],
             [
              0.6666666666666666,
              "#ed7953"
             ],
             [
              0.7777777777777778,
              "#fb9f3a"
             ],
             [
              0.8888888888888888,
              "#fdca26"
             ],
             [
              1,
              "#f0f921"
             ]
            ],
            "type": "histogram2d"
           }
          ],
          "histogram2dcontour": [
           {
            "colorbar": {
             "outlinewidth": 0,
             "ticks": ""
            },
            "colorscale": [
             [
              0,
              "#0d0887"
             ],
             [
              0.1111111111111111,
              "#46039f"
             ],
             [
              0.2222222222222222,
              "#7201a8"
             ],
             [
              0.3333333333333333,
              "#9c179e"
             ],
             [
              0.4444444444444444,
              "#bd3786"
             ],
             [
              0.5555555555555556,
              "#d8576b"
             ],
             [
              0.6666666666666666,
              "#ed7953"
             ],
             [
              0.7777777777777778,
              "#fb9f3a"
             ],
             [
              0.8888888888888888,
              "#fdca26"
             ],
             [
              1,
              "#f0f921"
             ]
            ],
            "type": "histogram2dcontour"
           }
          ],
          "mesh3d": [
           {
            "colorbar": {
             "outlinewidth": 0,
             "ticks": ""
            },
            "type": "mesh3d"
           }
          ],
          "parcoords": [
           {
            "line": {
             "colorbar": {
              "outlinewidth": 0,
              "ticks": ""
             }
            },
            "type": "parcoords"
           }
          ],
          "pie": [
           {
            "automargin": true,
            "type": "pie"
           }
          ],
          "scatter": [
           {
            "fillpattern": {
             "fillmode": "overlay",
             "size": 10,
             "solidity": 0.2
            },
            "type": "scatter"
           }
          ],
          "scatter3d": [
           {
            "line": {
             "colorbar": {
              "outlinewidth": 0,
              "ticks": ""
             }
            },
            "marker": {
             "colorbar": {
              "outlinewidth": 0,
              "ticks": ""
             }
            },
            "type": "scatter3d"
           }
          ],
          "scattercarpet": [
           {
            "marker": {
             "colorbar": {
              "outlinewidth": 0,
              "ticks": ""
             }
            },
            "type": "scattercarpet"
           }
          ],
          "scattergeo": [
           {
            "marker": {
             "colorbar": {
              "outlinewidth": 0,
              "ticks": ""
             }
            },
            "type": "scattergeo"
           }
          ],
          "scattergl": [
           {
            "marker": {
             "colorbar": {
              "outlinewidth": 0,
              "ticks": ""
             }
            },
            "type": "scattergl"
           }
          ],
          "scattermap": [
           {
            "marker": {
             "colorbar": {
              "outlinewidth": 0,
              "ticks": ""
             }
            },
            "type": "scattermap"
           }
          ],
          "scattermapbox": [
           {
            "marker": {
             "colorbar": {
              "outlinewidth": 0,
              "ticks": ""
             }
            },
            "type": "scattermapbox"
           }
          ],
          "scatterpolar": [
           {
            "marker": {
             "colorbar": {
              "outlinewidth": 0,
              "ticks": ""
             }
            },
            "type": "scatterpolar"
           }
          ],
          "scatterpolargl": [
           {
            "marker": {
             "colorbar": {
              "outlinewidth": 0,
              "ticks": ""
             }
            },
            "type": "scatterpolargl"
           }
          ],
          "scatterternary": [
           {
            "marker": {
             "colorbar": {
              "outlinewidth": 0,
              "ticks": ""
             }
            },
            "type": "scatterternary"
           }
          ],
          "surface": [
           {
            "colorbar": {
             "outlinewidth": 0,
             "ticks": ""
            },
            "colorscale": [
             [
              0,
              "#0d0887"
             ],
             [
              0.1111111111111111,
              "#46039f"
             ],
             [
              0.2222222222222222,
              "#7201a8"
             ],
             [
              0.3333333333333333,
              "#9c179e"
             ],
             [
              0.4444444444444444,
              "#bd3786"
             ],
             [
              0.5555555555555556,
              "#d8576b"
             ],
             [
              0.6666666666666666,
              "#ed7953"
             ],
             [
              0.7777777777777778,
              "#fb9f3a"
             ],
             [
              0.8888888888888888,
              "#fdca26"
             ],
             [
              1,
              "#f0f921"
             ]
            ],
            "type": "surface"
           }
          ],
          "table": [
           {
            "cells": {
             "fill": {
              "color": "#EBF0F8"
             },
             "line": {
              "color": "white"
             }
            },
            "header": {
             "fill": {
              "color": "#C8D4E3"
             },
             "line": {
              "color": "white"
             }
            },
            "type": "table"
           }
          ]
         },
         "layout": {
          "annotationdefaults": {
           "arrowcolor": "#2a3f5f",
           "arrowhead": 0,
           "arrowwidth": 1
          },
          "autotypenumbers": "strict",
          "coloraxis": {
           "colorbar": {
            "outlinewidth": 0,
            "ticks": ""
           }
          },
          "colorscale": {
           "diverging": [
            [
             0,
             "#8e0152"
            ],
            [
             0.1,
             "#c51b7d"
            ],
            [
             0.2,
             "#de77ae"
            ],
            [
             0.3,
             "#f1b6da"
            ],
            [
             0.4,
             "#fde0ef"
            ],
            [
             0.5,
             "#f7f7f7"
            ],
            [
             0.6,
             "#e6f5d0"
            ],
            [
             0.7,
             "#b8e186"
            ],
            [
             0.8,
             "#7fbc41"
            ],
            [
             0.9,
             "#4d9221"
            ],
            [
             1,
             "#276419"
            ]
           ],
           "sequential": [
            [
             0,
             "#0d0887"
            ],
            [
             0.1111111111111111,
             "#46039f"
            ],
            [
             0.2222222222222222,
             "#7201a8"
            ],
            [
             0.3333333333333333,
             "#9c179e"
            ],
            [
             0.4444444444444444,
             "#bd3786"
            ],
            [
             0.5555555555555556,
             "#d8576b"
            ],
            [
             0.6666666666666666,
             "#ed7953"
            ],
            [
             0.7777777777777778,
             "#fb9f3a"
            ],
            [
             0.8888888888888888,
             "#fdca26"
            ],
            [
             1,
             "#f0f921"
            ]
           ],
           "sequentialminus": [
            [
             0,
             "#0d0887"
            ],
            [
             0.1111111111111111,
             "#46039f"
            ],
            [
             0.2222222222222222,
             "#7201a8"
            ],
            [
             0.3333333333333333,
             "#9c179e"
            ],
            [
             0.4444444444444444,
             "#bd3786"
            ],
            [
             0.5555555555555556,
             "#d8576b"
            ],
            [
             0.6666666666666666,
             "#ed7953"
            ],
            [
             0.7777777777777778,
             "#fb9f3a"
            ],
            [
             0.8888888888888888,
             "#fdca26"
            ],
            [
             1,
             "#f0f921"
            ]
           ]
          },
          "colorway": [
           "#636efa",
           "#EF553B",
           "#00cc96",
           "#ab63fa",
           "#FFA15A",
           "#19d3f3",
           "#FF6692",
           "#B6E880",
           "#FF97FF",
           "#FECB52"
          ],
          "font": {
           "color": "#2a3f5f"
          },
          "geo": {
           "bgcolor": "white",
           "lakecolor": "white",
           "landcolor": "#E5ECF6",
           "showlakes": true,
           "showland": true,
           "subunitcolor": "white"
          },
          "hoverlabel": {
           "align": "left"
          },
          "hovermode": "closest",
          "mapbox": {
           "style": "light"
          },
          "paper_bgcolor": "white",
          "plot_bgcolor": "#E5ECF6",
          "polar": {
           "angularaxis": {
            "gridcolor": "white",
            "linecolor": "white",
            "ticks": ""
           },
           "bgcolor": "#E5ECF6",
           "radialaxis": {
            "gridcolor": "white",
            "linecolor": "white",
            "ticks": ""
           }
          },
          "scene": {
           "xaxis": {
            "backgroundcolor": "#E5ECF6",
            "gridcolor": "white",
            "gridwidth": 2,
            "linecolor": "white",
            "showbackground": true,
            "ticks": "",
            "zerolinecolor": "white"
           },
           "yaxis": {
            "backgroundcolor": "#E5ECF6",
            "gridcolor": "white",
            "gridwidth": 2,
            "linecolor": "white",
            "showbackground": true,
            "ticks": "",
            "zerolinecolor": "white"
           },
           "zaxis": {
            "backgroundcolor": "#E5ECF6",
            "gridcolor": "white",
            "gridwidth": 2,
            "linecolor": "white",
            "showbackground": true,
            "ticks": "",
            "zerolinecolor": "white"
           }
          },
          "shapedefaults": {
           "line": {
            "color": "#2a3f5f"
           }
          },
          "ternary": {
           "aaxis": {
            "gridcolor": "white",
            "linecolor": "white",
            "ticks": ""
           },
           "baxis": {
            "gridcolor": "white",
            "linecolor": "white",
            "ticks": ""
           },
           "bgcolor": "#E5ECF6",
           "caxis": {
            "gridcolor": "white",
            "linecolor": "white",
            "ticks": ""
           }
          },
          "title": {
           "x": 0.05
          },
          "xaxis": {
           "automargin": true,
           "gridcolor": "white",
           "linecolor": "white",
           "ticks": "",
           "title": {
            "standoff": 15
           },
           "zerolinecolor": "white",
           "zerolinewidth": 2
          },
          "yaxis": {
           "automargin": true,
           "gridcolor": "white",
           "linecolor": "white",
           "ticks": "",
           "title": {
            "standoff": 15
           },
           "zerolinecolor": "white",
           "zerolinewidth": 2
          }
         }
        },
        "title": {
         "text": "Total Daily Spending"
        },
        "xaxis": {
         "anchor": "y",
         "domain": [
          0,
          1
         ],
         "tickangle": 45,
         "title": {
          "text": "Category"
         }
        },
        "yaxis": {
         "anchor": "x",
         "domain": [
          0,
          1
         ],
         "title": {
          "text": "Amount ($NZD)"
         }
        }
       }
      }
     },
     "metadata": {},
     "output_type": "display_data"
    }
   ],
   "source": [
    "spending_by_day = df_data[df_data[\"Amount\"] < 0].resample(\"D\",on=\"Date\").sum().query(\"Description != 0\").reset_index()\n",
    "spending_by_day[\"Amount\"] = spending_by_day[\"Amount\"].abs()\n",
    "spending_by_day[\"RollingMean\"] = spending_by_day[\"Amount\"].rolling(window=5).mean()\n",
    "spending_by_day_roll = spending_by_day[\"Amount\"].rolling(window=5).mean()\n",
    "spending_by_day_line = px.scatter(spending_by_day,x=\"Date\",y=\"RollingMean\",title = \"Total Daily Spending\",\n",
    "                               trendline=\"ols\",trendline_color_override = \"red\",hover_name=\"Description\",\n",
    "                               hover_data=[\"Category\", \"Amount\"])#The small info in the hover box\n",
    "spending_by_day_line.update_layout(xaxis_title = \"Category\",yaxis_title = f\"Amount ({CURRENCY_PREFIX})\",\n",
    "                                   xaxis = dict(tickangle=45),)"
   ]
  },
  {
   "cell_type": "code",
   "execution_count": 1,
   "id": "42476798",
   "metadata": {},
   "outputs": [
    {
     "ename": "NameError",
     "evalue": "name 'df_data' is not defined",
     "output_type": "error",
     "traceback": [
      "\u001b[31m---------------------------------------------------------------------------\u001b[39m",
      "\u001b[31mNameError\u001b[39m                                 Traceback (most recent call last)",
      "\u001b[36mCell\u001b[39m\u001b[36m \u001b[39m\u001b[32mIn[1]\u001b[39m\u001b[32m, line 1\u001b[39m\n\u001b[32m----> \u001b[39m\u001b[32m1\u001b[39m spending_by_day = \u001b[43mdf_data\u001b[49m[df_data[\u001b[33m\"\u001b[39m\u001b[33mAmount\u001b[39m\u001b[33m\"\u001b[39m] < \u001b[32m0\u001b[39m].resample(\u001b[33m\"\u001b[39m\u001b[33mW\u001b[39m\u001b[33m\"\u001b[39m,on=\u001b[33m\"\u001b[39m\u001b[33mDate\u001b[39m\u001b[33m\"\u001b[39m).sum().query(\u001b[33m\"\u001b[39m\u001b[33mDescription != 0\u001b[39m\u001b[33m\"\u001b[39m).reset_index()\n\u001b[32m      2\u001b[39m spending_by_day[\u001b[33m\"\u001b[39m\u001b[33mAmount\u001b[39m\u001b[33m\"\u001b[39m] = spending_by_day[\u001b[33m\"\u001b[39m\u001b[33mAmount\u001b[39m\u001b[33m\"\u001b[39m].abs()\n\u001b[32m      3\u001b[39m spending_by_day[\u001b[33m\"\u001b[39m\u001b[33mRollingMean\u001b[39m\u001b[33m\"\u001b[39m] = spending_by_day[\u001b[33m\"\u001b[39m\u001b[33mAmount\u001b[39m\u001b[33m\"\u001b[39m].rolling(window=\u001b[32m5\u001b[39m).mean()\n",
      "\u001b[31mNameError\u001b[39m: name 'df_data' is not defined"
     ]
    }
   ],
   "source": [
    "spending_by_day = df_data[df_data[\"Amount\"] < 0].resample(\"W\",on=\"Date\").sum().query(\"Description != 0\").reset_index()\n",
    "spending_by_day[\"Amount\"] = spending_by_day[\"Amount\"].abs()\n",
    "spending_by_day[\"RollingMean\"] = spending_by_day[\"Amount\"].rolling(window=5).mean()\n",
    "spending_by_day_roll = spending_by_day[\"Amount\"].rolling(window=5).mean()\n",
    "spending_by_day_line = px.scatter(spending_by_day,x=\"Date\",y=\"RollingMean\",title = \"Total Daily Spending\",\n",
    "                               trendline=\"ols\",trendline_color_override = \"red\",hover_name=\"Description\",\n",
    "                               hover_data=[\"Category\", \"Amount\"])#The small info in the hover box\n",
    "spending_by_day_line.update_layout(xaxis_title = \"Category\",yaxis_title = f\"Amount ({CURRENCY_PREFIX})\",\n",
    "                                   xaxis = dict(tickangle=45),)"
   ]
  },
  {
   "cell_type": "code",
   "execution_count": null,
   "id": "86ac4d41",
   "metadata": {},
   "outputs": [],
   "source": []
  }
 ],
 "metadata": {
  "kernelspec": {
   "display_name": ".venv",
   "language": "python",
   "name": "python3"
  },
  "language_info": {
   "codemirror_mode": {
    "name": "ipython",
    "version": 3
   },
   "file_extension": ".py",
   "mimetype": "text/x-python",
   "name": "python",
   "nbconvert_exporter": "python",
   "pygments_lexer": "ipython3",
   "version": "3.12.2"
  }
 },
 "nbformat": 4,
 "nbformat_minor": 5
}
