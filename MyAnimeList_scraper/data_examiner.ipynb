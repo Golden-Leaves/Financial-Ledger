{
 "cells": [
  {
   "cell_type": "code",
   "execution_count": null,
   "id": "50891855",
   "metadata": {},
   "outputs": [],
   "source": [
    "import pandas as pd\n",
    "import numpy as np\n",
    "import plotly.express as px"
   ]
  },
  {
   "cell_type": "code",
   "execution_count": null,
   "id": "c5397cd5",
   "metadata": {},
   "outputs": [],
   "source": [
    "anime_df = pd.read_csv(\"data/animes.csv\")\n",
    "anime_df"
   ]
  }
 ],
 "metadata": {
  "kernelspec": {
   "display_name": ".venv",
   "language": "python",
   "name": "python3"
  },
  "language_info": {
   "name": "python",
   "version": "3.12.2"
  }
 },
 "nbformat": 4,
 "nbformat_minor": 5
}
